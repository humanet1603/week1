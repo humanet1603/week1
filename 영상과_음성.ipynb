{
  "nbformat": 4,
  "nbformat_minor": 0,
  "metadata": {
    "colab": {
      "private_outputs": true,
      "provenance": [],
      "machine_shape": "hm",
      "mount_file_id": "1ZdtaRypZs9Ev4MXbRqwjpcf8Lmoc1h3f",
      "authorship_tag": "ABX9TyMVQNXXRD5Uq0VChC+9U9tn",
      "include_colab_link": true
    },
    "kernelspec": {
      "name": "python3",
      "display_name": "Python 3"
    },
    "language_info": {
      "name": "python"
    }
  },
  "cells": [
    {
      "cell_type": "markdown",
      "metadata": {
        "id": "view-in-github",
        "colab_type": "text"
      },
      "source": [
        "<a href=\"https://colab.research.google.com/github/humanet1603/week1/blob/main/%EC%98%81%EC%83%81%EA%B3%BC_%EC%9D%8C%EC%84%B1.ipynb\" target=\"_parent\"><img src=\"https://colab.research.google.com/assets/colab-badge.svg\" alt=\"Open In Colab\"/></a>"
      ]
    },
    {
      "cell_type": "code",
      "source": [
        "!pip install yt_dlp"
      ],
      "metadata": {
        "id": "PeVOdnMgmhLm"
      },
      "execution_count": null,
      "outputs": []
    },
    {
      "cell_type": "code",
      "execution_count": null,
      "metadata": {
        "collapsed": true,
        "id": "2HYHGWeFmT-T"
      },
      "outputs": [],
      "source": [
        "import yt_dlp\n",
        "\n",
        "url = 'https://www.youtube.com/watch?v=8H6atVmHZBg'\n",
        "\n",
        "ydl_opts = {\n",
        "    'format': 'bestvideo+bestaudio/best',\n",
        "    'outtmpl': '%(title)s.%(ext)s',  # 파일 이름 설정\n",
        "}\n",
        "\n",
        "with yt_dlp.YoutubeDL(ydl_opts) as ydl:\n",
        "    ydl.download([url])\n"
      ]
    },
    {
      "cell_type": "code",
      "source": [
        "import yt_dlp\n",
        "\n",
        "url = 'https://www.youtube.com/watch?v=m3GTIY5mQwA'\n",
        "\n",
        "ydl_opts = {\n",
        "    'format': 'bestaudio/best',\n",
        "    'outtmpl': '%(title)s.%(ext)s',  # 저장될 파일 이름\n",
        "    'postprocessors': [{\n",
        "        'key': 'FFmpegExtractAudio',\n",
        "        'preferredcodec': 'mp3',\n",
        "        'preferredquality': '192',\n",
        "    }],\n",
        "}\n",
        "\n",
        "with yt_dlp.YoutubeDL(ydl_opts) as ydl:\n",
        "    ydl.download([url])\n"
      ],
      "metadata": {
        "id": "7jGXLEpnmc1H"
      },
      "execution_count": null,
      "outputs": []
    },
    {
      "cell_type": "code",
      "source": [
        "import yt_dlp\n",
        "\n",
        "url = 'https://www.youtube.com/watch?v=m3GTIY5mQwA'\n",
        "\n",
        "ydl_opts = {\n",
        "    'format': 'bestaudio/best',\n",
        "    'outtmpl': '%(title)s.%(ext)s',  # 예: 영상 제목.wav\n",
        "    'postprocessors': [{\n",
        "        'key': 'FFmpegExtractAudio',\n",
        "        'preferredcodec': 'wav',\n",
        "        'preferredquality': '192',  # 품질 설정, wav는 무손실이므로 영향 적음\n",
        "    }],\n",
        "}\n",
        "\n",
        "with yt_dlp.YoutubeDL(ydl_opts) as ydl:\n",
        "    ydl.download([url])\n"
      ],
      "metadata": {
        "id": "xvRop7K1nkhS"
      },
      "execution_count": null,
      "outputs": []
    },
    {
      "cell_type": "code",
      "source": [
        "import yt_dlp\n",
        "\n",
        "url = 'https://www.youtube.com/watch?v=m3GTIY5mQwA'\n",
        "\n",
        "ydl_opts = {\n",
        "    'format': 'bestvideo+bestaudio/best',\n",
        "    'outtmpl': '%(title)s.%(ext)s',  # 파일 이름 설정\n",
        "}\n",
        "\n",
        "with yt_dlp.YoutubeDL(ydl_opts) as ydl:\n",
        "    ydl.download([url])\n"
      ],
      "metadata": {
        "id": "kMDdmECvoloe"
      },
      "execution_count": null,
      "outputs": []
    },
    {
      "cell_type": "code",
      "source": [
        "import yt_dlp\n",
        "\n",
        "url = 'https://www.youtube.com/watch?v=m3GTIY5mQwA'\n",
        "\n",
        "ydl_opts = {\n",
        "    'format': 'bestaudio/best',\n",
        "    'outtmpl': '%(title)s.%(ext)s',\n",
        "    'postprocessors': [{\n",
        "        'key': 'FFmpegExtractAudio',\n",
        "        'preferredcodec': 'wav',\n",
        "    }],\n",
        "}\n",
        "\n",
        "try:\n",
        "    with yt_dlp.YoutubeDL(ydl_opts) as ydl:\n",
        "        ydl.download([url])\n",
        "except Exception as e:\n",
        "    print(\"오류 발생:\", str(e))\n"
      ],
      "metadata": {
        "id": "KI8UOdktpT01"
      },
      "execution_count": null,
      "outputs": []
    },
    {
      "cell_type": "code",
      "source": [
        "import yt_dlp\n",
        "\n",
        "url = \"https://www.youtube.com/watch?v=m3GTIY5mQwA\"\n",
        "\n",
        "ydl_opts = {\n",
        "    'format': 'bestvideo+bestaudio/best',\n",
        "    'outtmpl': 'downloaded_video.%(ext)s'\n",
        "}\n",
        "\n",
        "with yt_dlp.YoutubeDL(ydl_opts) as ydl:\n",
        "    ydl.download([url])\n"
      ],
      "metadata": {
        "collapsed": true,
        "id": "fdfMwlpcrN2Q"
      },
      "execution_count": null,
      "outputs": []
    },
    {
      "cell_type": "code",
      "source": [
        "import cv2\n",
        "import os\n",
        "import numpy as np\n",
        "\n",
        "video_path = '/content/downloaded_video.webm'  # ✅ .webm 파일 경로\n",
        "output_folder = '/content/scene_screenshots'\n",
        "os.makedirs(output_folder, exist_ok=True)\n",
        "\n",
        "cap = cv2.VideoCapture(video_path)\n",
        "\n",
        "fps = cap.get(cv2.CAP_PROP_FPS)\n",
        "frame_interval = 1  # 1초마다 검사\n",
        "frame_step = int(fps * frame_interval)\n",
        "\n",
        "prev_frame = None\n",
        "frame_idx = 0\n",
        "screenshot_count = 0\n",
        "\n",
        "threshold = 0.85  # CORREL 유사도 기준값 (낮을수록 장면 전환으로 감지)\n",
        "\n",
        "while True:\n",
        "    ret, frame = cap.read()\n",
        "    if not ret:\n",
        "        break\n",
        "\n",
        "    if frame_idx % frame_step != 0:\n",
        "        frame_idx += 1\n",
        "        continue\n",
        "\n",
        "    gray = cv2.cvtColor(frame, cv2.COLOR_BGR2GRAY)\n",
        "    hist = cv2.calcHist([gray], [0], None, [256], [0, 256])\n",
        "    hist = cv2.normalize(hist, hist).flatten()\n",
        "\n",
        "    if prev_frame is not None:\n",
        "        prev_hist = cv2.calcHist([prev_frame], [0], None, [256], [0, 256])\n",
        "        prev_hist = cv2.normalize(prev_hist, prev_hist).flatten()\n",
        "\n",
        "        diff = cv2.compareHist(prev_hist, hist, cv2.HISTCMP_CORREL)\n",
        "\n",
        "        if diff < threshold:\n",
        "            filename = os.path.join(output_folder, f'scene_{screenshot_count:03d}.jpg')\n",
        "            cv2.imwrite(filename, frame)\n",
        "            print(f\"Saved: {filename}\")\n",
        "            screenshot_count += 1\n",
        "\n",
        "    prev_frame = gray\n",
        "    frame_idx += 1\n",
        "\n",
        "cap.release()\n",
        "print(\"장면 전환 스크린샷 추출 완료.\")\n"
      ],
      "metadata": {
        "id": "Lt2X8kvIuQft"
      },
      "execution_count": null,
      "outputs": []
    },
    {
      "cell_type": "code",
      "source": [
        "!apt update\n",
        "!apt install -y ffmpeg\n",
        "!ffmpeg -i /content/downloaded_video.webm -c:v libx264 -c:a aac /content/converted_video.mp4\n"
      ],
      "metadata": {
        "collapsed": true,
        "id": "Z67I2F7Fu7s7"
      },
      "execution_count": null,
      "outputs": []
    },
    {
      "cell_type": "code",
      "source": [
        "import cv2\n",
        "import os\n",
        "\n",
        "video_path = '/content/converted_video.mp4'  # 변환된 mp4 사용\n",
        "output_folder = '/content/test_screenshots'\n",
        "os.makedirs(output_folder, exist_ok=True)\n",
        "\n",
        "cap = cv2.VideoCapture(video_path)\n",
        "\n",
        "fps = cap.get(cv2.CAP_PROP_FPS)\n",
        "interval_seconds = 10\n",
        "frame_interval = int(fps * interval_seconds)\n",
        "\n",
        "frame_idx = 0\n",
        "screenshot_count = 0\n",
        "\n",
        "while True:\n",
        "    cap.set(cv2.CAP_PROP_POS_FRAMES, frame_idx)\n",
        "    ret, frame = cap.read()\n",
        "    if not ret:\n",
        "        break\n",
        "    filename = os.path.join(output_folder, f'test_{screenshot_count:03d}.jpg')\n",
        "    cv2.imwrite(filename, frame)\n",
        "    print(f\"Saved: {filename}\")\n",
        "    screenshot_count += 1\n",
        "    frame_idx += frame_interval\n",
        "\n",
        "cap.release()\n",
        "print(\"완료: 간격 기반 스크린샷 저장됨\")\n"
      ],
      "metadata": {
        "collapsed": true,
        "id": "XMcrwII7un7K"
      },
      "execution_count": null,
      "outputs": []
    },
    {
      "cell_type": "code",
      "source": [
        "import cv2\n",
        "\n",
        "video_path = '/content/converted_video.mp4'\n",
        "\n",
        "cap = cv2.VideoCapture(video_path)\n",
        "\n",
        "if not cap.isOpened():\n",
        "    print(\"❌ mp4 파일을 열 수 없습니다. ffmpeg으로 재변환하거나 다른 코덱 필요\")\n",
        "else:\n",
        "    fps = cap.get(cv2.CAP_PROP_FPS)\n",
        "    total_frames = int(cap.get(cv2.CAP_PROP_FRAME_COUNT))\n",
        "    print(f\"✅ 열기 성공 | FPS: {fps}, 총 프레임 수: {total_frames}\")\n",
        "\n",
        "cap.release()\n"
      ],
      "metadata": {
        "id": "gB7NAUd_x9Bx"
      },
      "execution_count": null,
      "outputs": []
    }
  ]
}