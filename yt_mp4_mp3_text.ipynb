{
  "nbformat": 4,
  "nbformat_minor": 0,
  "metadata": {
    "colab": {
      "private_outputs": true,
      "provenance": [],
      "authorship_tag": "ABX9TyM9HxjvqJ0Q6DHLmF1I2TOV",
      "include_colab_link": true
    },
    "kernelspec": {
      "name": "python3",
      "display_name": "Python 3"
    },
    "language_info": {
      "name": "python"
    }
  },
  "cells": [
    {
      "cell_type": "markdown",
      "metadata": {
        "id": "view-in-github",
        "colab_type": "text"
      },
      "source": [
        "<a href=\"https://colab.research.google.com/github/humanet1603/week1/blob/main/yt_mp4_mp3_text.ipynb\" target=\"_parent\"><img src=\"https://colab.research.google.com/assets/colab-badge.svg\" alt=\"Open In Colab\"/></a>"
      ]
    },
    {
      "cell_type": "code",
      "execution_count": null,
      "metadata": {
        "id": "LZfgCw5nWfjH"
      },
      "outputs": [],
      "source": [
        "!pip install yt-dlp\n"
      ]
    },
    {
      "cell_type": "code",
      "source": [],
      "metadata": {
        "id": "vsaqO0uQbf8V"
      },
      "execution_count": null,
      "outputs": []
    },
    {
      "cell_type": "markdown",
      "source": [
        "`yt-dlp`를 사용한 기본적인 예시. 명령줄에서 실행한다고 가정하겠습니다:\n",
        "\n",
        "1. **기본 다운로드:**\n",
        "   ```bash\n",
        "   yt-dlp https://www.youtube.com/watch?v=example\n",
        "   ```\n",
        "   - 위 명령은 YouTube 동영상을 기본 설정으로 다운로드합니다.\n",
        "\n",
        "2. **특정 화질로 다운로드:**\n",
        "   ```bash\n",
        "   yt-dlp -f 22 https://www.youtube.com/watch?v=example\n",
        "   ```\n",
        "   - `-f 22`는 특정 화질을 선택하여 다운로드하는 옵션입니다. 어떤 화질을 사용할 수 있는지 확인하려면 다음 명령을 실행하세요:\n",
        "     ```bash\n",
        "     yt-dlp -F https://www.youtube.com/watch?v=example\n",
        "     ```\n",
        "\n",
        "3. **오디오만 다운로드:**\n",
        "   ```bash\n",
        "   yt-dlp -x --audio-format mp3 https://www.youtube.com/watch?v=example\n",
        "   ```\n",
        "   - 이 명령은 동영상에서 오디오만 추출하여 MP3 형식으로 저장합니다.\n",
        "\n",
        "4. **출력 파일 이름 지정:**\n",
        "   ```bash\n",
        "   yt-dlp -o \"%(title)s.%(ext)s\" https://www.youtube.com/watch?v=example\n",
        "   ```\n",
        "   - 이 명령은 파일 이름을 동영상 제목과 확장자로 저장합니다.\n",
        "\n",
        "이 외에도 `yt-dlp`에는 다양한 옵션이 있습니다. [공식 문서](https://github.com/yt-dlp/yt-dlp)를 참고하면 더 많은 정보를 얻을 수 있습니다. 사용 시 저작권을 반드시 준수하세요! 😊"
      ],
      "metadata": {
        "id": "a4w3W_oJdH1f"
      }
    },
    {
      "cell_type": "code",
      "source": [
        "https://www.youtube.com/watch?v=f1yOU7wzzhQ&list=PL0l4I-g2LT4mZQ5plBKnt4UmsAC1ukUVD&index=5"
      ],
      "metadata": {
        "id": "m93mzG5wdpoG"
      },
      "execution_count": null,
      "outputs": []
    },
    {
      "cell_type": "code",
      "source": [
        "!pip install -U yt-dlp\n"
      ],
      "metadata": {
        "id": "RNfJ7EcOwmTG"
      },
      "execution_count": null,
      "outputs": []
    },
    {
      "cell_type": "code",
      "source": [
        "import yt_dlp\n",
        "\n",
        "url = \"https://www.youtube.com/watch?v=f1yOU7wzzhQ&list=PL0l4I-g2LT4mZQ5plBKnt4UmsAC1ukUVD&index=5\"\n",
        "\n",
        "ydl_opts = {\n",
        "    'format': 'bestvideo+bestaudio',\n",
        "    'writesubtitles': True,\n",
        "    'writeautomaticsub': True,\n",
        "    'subtitleslangs': ['ko', 'en'],\n",
        "    'subtitlesformat': 'srt',\n",
        "    'outtmpl': '%(title)s.%(ext)s',\n",
        "    'merge_output_format': 'mp4'\n",
        "}\n",
        "\n",
        "with yt_dlp.YoutubeDL(ydl_opts) as ydl:\n",
        "    ydl.download([url])\n",
        "\n",
        "ydl_opts = {\n",
        "    'format': 'bestvideo+bestaudio',\n",
        "    'writesubtitles': True,\n",
        "    'writeautomaticsub': True,\n",
        "    'subtitleslangs': ['ko', 'en'],\n",
        "    'subtitlesformat': 'srt',\n",
        "    'outtmpl': '%(title)s.%(ext)s',\n",
        "    'merge_output_format': 'mp4'\n",
        "}\n",
        "\n",
        "with yt_dlp.YoutubeDL(ydl_opts) as ydl:\n",
        "    ydl.download([url])\n",
        "\n",
        "\n",
        "ydl_opts = {\n",
        "    'format': 'bestvideo+bestaudio',\n",
        "    'writesubtitles': True,\n",
        "    'writeautomaticsub': True,\n",
        "    'subtitleslangs': ['ko', 'en'],\n",
        "    'subtitlesformat': 'srt',\n",
        "    'outtmpl': '%(title)s.%(ext)s',\n",
        "    'merge_output_format': 'mp4'\n",
        "}\n",
        "\n",
        "with yt_dlp.YoutubeDL(ydl_opts) as ydl:\n",
        "    ydl.download([url])\n"
      ],
      "metadata": {
        "id": "ZszIE1Y4wrJh"
      },
      "execution_count": null,
      "outputs": []
    }
  ]
}