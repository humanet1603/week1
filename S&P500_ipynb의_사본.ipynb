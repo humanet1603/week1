{
  "nbformat": 4,
  "nbformat_minor": 0,
  "metadata": {
    "colab": {
      "provenance": [],
      "authorship_tag": "ABX9TyM1Fve/2BhhpuCXgLT2FXh6",
      "include_colab_link": true
    },
    "kernelspec": {
      "name": "python3",
      "display_name": "Python 3"
    },
    "language_info": {
      "name": "python"
    }
  },
  "cells": [
    {
      "cell_type": "markdown",
      "metadata": {
        "id": "view-in-github",
        "colab_type": "text"
      },
      "source": [
        "<a href=\"https://colab.research.google.com/github/humanet1603/week1/blob/main/S%26P500_ipynb%EC%9D%98_%EC%82%AC%EB%B3%B8.ipynb\" target=\"_parent\"><img src=\"https://colab.research.google.com/assets/colab-badge.svg\" alt=\"Open In Colab\"/></a>"
      ]
    },
    {
      "cell_type": "code",
      "execution_count": null,
      "metadata": {
        "id": "ElYpEcbYDJpg"
      },
      "outputs": [],
      "source": []
    },
    {
      "cell_type": "code",
      "source": [
        "from google.colab import drive\n",
        "drive.mount('/content/drive')"
      ],
      "metadata": {
        "colab": {
          "base_uri": "https://localhost:8080/"
        },
        "id": "7VVh7wHXDM3i",
        "outputId": "abadd7e7-767b-437d-c884-eeeb06bb6e3e"
      },
      "execution_count": null,
      "outputs": [
        {
          "output_type": "stream",
          "name": "stdout",
          "text": [
            "Mounted at /content/drive\n"
          ]
        }
      ]
    },
    {
      "cell_type": "markdown",
      "source": [
        "## S&P500 목록 가져오기"
      ],
      "metadata": {
        "id": "v_xFM3-UDvH4"
      }
    },
    {
      "cell_type": "code",
      "source": [
        "!pip install html5lib\n"
      ],
      "metadata": {
        "colab": {
          "base_uri": "https://localhost:8080/"
        },
        "id": "qI1-ipn1NbeR",
        "outputId": "63b371db-d63b-453b-86af-01ffdac72e14"
      },
      "execution_count": null,
      "outputs": [
        {
          "output_type": "stream",
          "name": "stdout",
          "text": [
            "Requirement already satisfied: html5lib in /usr/local/lib/python3.10/dist-packages (1.1)\n",
            "Requirement already satisfied: six>=1.9 in /usr/local/lib/python3.10/dist-packages (from html5lib) (1.16.0)\n",
            "Requirement already satisfied: webencodings in /usr/local/lib/python3.10/dist-packages (from html5lib) (0.5.1)\n"
          ]
        }
      ]
    },
    {
      "cell_type": "code",
      "source": [
        "\n",
        "import pandas as pd\n",
        "# s&p 500 종목 리스트 가져오기\n",
        "sp_url = 'https://en.wikipedia.org/wiki/List_of_S%26P_500_companies'\n",
        "sp500_constituents = pd.read_html(sp_url, header=0)[0]\n",
        "sp500_constituents.info()"
      ],
      "metadata": {
        "colab": {
          "base_uri": "https://localhost:8080/"
        },
        "collapsed": true,
        "id": "ACj3_EBCEKei",
        "outputId": "40c39616-f5dc-499f-9090-d85f72803fd9"
      },
      "execution_count": null,
      "outputs": [
        {
          "output_type": "stream",
          "name": "stdout",
          "text": [
            "<class 'pandas.core.frame.DataFrame'>\n",
            "RangeIndex: 503 entries, 0 to 502\n",
            "Data columns (total 8 columns):\n",
            " #   Column                 Non-Null Count  Dtype \n",
            "---  ------                 --------------  ----- \n",
            " 0   Symbol                 503 non-null    object\n",
            " 1   Security               503 non-null    object\n",
            " 2   GICS Sector            503 non-null    object\n",
            " 3   GICS Sub-Industry      503 non-null    object\n",
            " 4   Headquarters Location  503 non-null    object\n",
            " 5   Date added             503 non-null    object\n",
            " 6   CIK                    503 non-null    int64 \n",
            " 7   Founded                503 non-null    object\n",
            "dtypes: int64(1), object(7)\n",
            "memory usage: 31.6+ KB\n"
          ]
        }
      ]
    },
    {
      "cell_type": "code",
      "source": [],
      "metadata": {
        "id": "ORMbLUAoOJmi"
      },
      "execution_count": null,
      "outputs": []
    }
  ]
}