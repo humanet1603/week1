{
  "nbformat": 4,
  "nbformat_minor": 0,
  "metadata": {
    "colab": {
      "private_outputs": true,
      "provenance": [],
      "mount_file_id": "1E6jX55OnMmsCkgsg-pX7L7r3TEVLUz6B",
      "authorship_tag": "ABX9TyNnA5bfquBs7kybkxtlbomY",
      "include_colab_link": true
    },
    "kernelspec": {
      "name": "python3",
      "display_name": "Python 3"
    },
    "language_info": {
      "name": "python"
    }
  },
  "cells": [
    {
      "cell_type": "markdown",
      "metadata": {
        "id": "view-in-github",
        "colab_type": "text"
      },
      "source": [
        "<a href=\"https://colab.research.google.com/github/humanet1603/week1/blob/main/%EB%B3%B4%EC%88%98%EC%9C%A0%ED%8A%9C%EB%B8%8C%EB%B6%84%EC%84%9D.ipynb\" target=\"_parent\"><img src=\"https://colab.research.google.com/assets/colab-badge.svg\" alt=\"Open In Colab\"/></a>"
      ]
    },
    {
      "cell_type": "code",
      "source": [
        "import os\n",
        "\n",
        "# API 키를 수동으로 입력 (입력 내용은 화면에 보이지 않도록 처리 가능)\n",
        "api_key = input(\"🔑 YouTube API 키를 입력하세요: \").strip()\n",
        "\n",
        "# 환경변수로 설정\n",
        "os.environ[\"YOUTUBE_API_KEY\"] = api_key\n",
        "\n",
        "# 이후 사용 시\n",
        "print(\"✅ API 키가 성공적으로 설정되었습니다.\")\n"
      ],
      "metadata": {
        "id": "uJNSaYaNKA1L"
      },
      "execution_count": null,
      "outputs": []
    },
    {
      "cell_type": "code",
      "source": [
        "from googleapiclient.discovery import build\n",
        "import os\n",
        "from datetime import datetime, timedelta\n",
        "\n",
        "# 1. API 키 가져오기\n",
        "api_key = os.getenv(\"YOUTUBE_API_KEY\")\n",
        "youtube = build(\"youtube\", \"v3\", developerKey=api_key)\n",
        "\n",
        "# 2. 성창경TV 채널 ID\n",
        "channel_id = \"UCFWIofVBqseX6Bmd9Dn7kgg\"\n",
        "\n",
        "# 3. 날짜 필터 설정\n",
        "# 예: 2025년 3월 24일 ~ 3월 30일\n",
        "start_date = \"2025-03-24T00:00:00Z\"\n",
        "end_date   = \"2025-03-30T23:59:59Z\"\n",
        "\n",
        "# 4. 영상 검색 및 메타데이터 수집 함수\n",
        "def get_videos_with_metadata(channel_id, start_date, end_date, max_results=50):\n",
        "    request = youtube.search().list(\n",
        "        part=\"snippet\",\n",
        "        channelId=channel_id,\n",
        "        publishedAfter=start_date,\n",
        "        publishedBefore=end_date,\n",
        "        maxResults=max_results,\n",
        "        order=\"date\",\n",
        "        type=\"video\"\n",
        "    )\n",
        "    response = request.execute()\n",
        "\n",
        "    video_data = []\n",
        "    for item in response['items']:\n",
        "        video_id = item['id']['videoId']\n",
        "        title = item['snippet']['title']\n",
        "        published_at = item['snippet']['publishedAt']\n",
        "        description = item['snippet']['description']\n",
        "        video_url = f\"https://www.youtube.com/watch?v={video_id}\"\n",
        "\n",
        "        # 각 영상의 통계(조회수) 가져오기\n",
        "        stats_request = youtube.videos().list(\n",
        "            part=\"statistics\",\n",
        "            id=video_id\n",
        "        )\n",
        "        stats_response = stats_request.execute()\n",
        "        view_count = stats_response['items'][0]['statistics'].get('viewCount', '0')\n",
        "\n",
        "        video_data.append({\n",
        "            \"title\": title,\n",
        "            \"published_at\": published_at,\n",
        "            \"view_count\": view_count,\n",
        "            \"description\": description,\n",
        "            \"url\": video_url\n",
        "        })\n",
        "\n",
        "    return video_data\n",
        "\n",
        "# 5. 실행\n",
        "videos = get_videos_with_metadata(channel_id, start_date, end_date)\n",
        "\n",
        "# 6. 출력\n",
        "print(f\"\\n📺 성창경TV 영상 목록 ({start_date[:10]} ~ {end_date[:10]})\\n\")\n",
        "for i, video in enumerate(videos, 1):\n",
        "    print(f\"{i}. {video['title']}\")\n",
        "    print(f\"   🗓 게시일: {video['published_at']}\")\n",
        "    print(f\"   👁 조회수: {video['view_count']}\")\n",
        "    print(f\"   📄 설명: {video['description'][:100]}{'...' if len(video['description']) > 100 else ''}\")\n",
        "    print(f\"   🔗 링크: {video['url']}\\n\")\n"
      ],
      "metadata": {
        "id": "2o5xSZAILqWe"
      },
      "execution_count": null,
      "outputs": []
    }
  ]
}