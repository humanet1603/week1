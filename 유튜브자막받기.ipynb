{
  "nbformat": 4,
  "nbformat_minor": 0,
  "metadata": {
    "colab": {
      "private_outputs": true,
      "provenance": [],
      "authorship_tag": "ABX9TyMSN259caA7t3zdv/SEwjPe",
      "include_colab_link": true
    },
    "kernelspec": {
      "name": "python3",
      "display_name": "Python 3"
    },
    "language_info": {
      "name": "python"
    }
  },
  "cells": [
    {
      "cell_type": "markdown",
      "metadata": {
        "id": "view-in-github",
        "colab_type": "text"
      },
      "source": [
        "<a href=\"https://colab.research.google.com/github/humanet1603/week1/blob/main/%EC%9C%A0%ED%8A%9C%EB%B8%8C%EC%9E%90%EB%A7%89%EB%B0%9B%EA%B8%B0.ipynb\" target=\"_parent\"><img src=\"https://colab.research.google.com/assets/colab-badge.svg\" alt=\"Open In Colab\"/></a>"
      ]
    },
    {
      "cell_type": "code",
      "source": [
        "!pip install google-api-python-client pytz\n"
      ],
      "metadata": {
        "collapsed": true,
        "id": "pc0DAAKEdmvB"
      },
      "execution_count": null,
      "outputs": []
    },
    {
      "cell_type": "code",
      "source": [
        "from googleapiclient.discovery import build\n",
        "from datetime import datetime, timedelta\n",
        "import pytz\n",
        "\n",
        "# 사용자로부터 API 키 수동 입력\n",
        "API_KEY = input(\"API Key를 입력하세요: \")\n",
        "\n",
        "# 사용자로부터 유튜브 채널 사용자명 입력받기\n",
        "\n",
        "raw_input = input(\"채널 URL 또는 사용자명을 입력하세요 (예: @kosungkooktv 또는 kosungkooktv): \")\n",
        "CHANNEL_USERNAME = raw_input.replace(\"@\", \"\").strip()\n",
        "\n",
        "# 채널 ID 조회\n",
        "search_response = youtube.search().list(\n",
        "    q=CHANNEL_USERNAME,\n",
        "    type=\"channel\",\n",
        "    part=\"snippet\",\n",
        "    maxResults=1\n",
        ").execute()\n",
        "\n",
        "if not search_response['items']:\n",
        "    print(\"채널을 찾을 수 없습니다.\")\n",
        "    exit()\n",
        "\n",
        "channel_id = search_response['items'][0]['snippet']['channelId']\n",
        "\n",
        "\n",
        "# YouTube API 클라이언트 생성\n",
        "youtube = build('youtube', 'v3', developerKey=API_KEY)\n",
        "\n",
        "# 채널 ID 조회 (username 기반)\n",
        "search_response = youtube.search().list(\n",
        "    q=CHANNEL_USERNAME,\n",
        "    type=\"channel\",\n",
        "    part=\"snippet\",\n",
        "    maxResults=1\n",
        ").execute()\n",
        "\n",
        "if not search_response['items']:\n",
        "    print(\"채널을 찾을 수 없습니다.\")\n",
        "    exit()\n",
        "\n",
        "channel_id = search_response['items'][0]['snippet']['channelId']\n",
        "\n",
        "# 채널의 업로드 playlistId 확인\n",
        "channel_response = youtube.channels().list(\n",
        "    part=\"contentDetails\",\n",
        "    id=channel_id\n",
        ").execute()\n",
        "\n",
        "uploads_playlist_id = channel_response['items'][0]['contentDetails']['relatedPlaylists']['uploads']\n",
        "\n",
        "from datetime import datetime\n",
        "\n",
        "# 사용자로부터 시작일과 마침일 입력받기\n",
        "start_str = input(\"조회 시작 날짜를 입력하세요 (예: 2025-04-01): \")\n",
        "end_str = input(\"조회 마침 날짜를 입력하세요 (예: 2025-04-05): \")\n",
        "\n",
        "# 문자열을 datetime 객체로 변환\n",
        "try:\n",
        "    start_date = datetime.strptime(start_str, \"%Y-%m-%d\")\n",
        "    end_date = datetime.strptime(end_str, \"%Y-%m-%d\")\n",
        "\n",
        "    # 마침일에 하루를 더해서 '포함' 처리\n",
        "    end_date = end_date.replace(hour=23, minute=59, second=59)\n",
        "\n",
        "    print(f\"\\n[조회 기간: {start_date.strftime('%Y-%m-%d')} ~ {end_date.strftime('%Y-%m-%d')}]\")\n",
        "except ValueError:\n",
        "    print(\"날짜 형식이 올바르지 않습니다. 'YYYY-MM-DD' 형식으로 입력해 주세요.\")\n",
        "    exit()\n",
        "\n",
        "# 영상 수집\n",
        "next_page_token = None\n",
        "videos = []\n",
        "\n",
        "next_page_token = None\n",
        "videos = []\n",
        "\n",
        "while True:\n",
        "    playlist_response = youtube.playlistItems().list(\n",
        "        part=\"snippet\",\n",
        "        playlistId=uploads_playlist_id,\n",
        "        maxResults=50,\n",
        "        pageToken=next_page_token\n",
        "    ).execute()\n",
        "\n",
        "    for item in playlist_response['items']:\n",
        "        snippet = item['snippet']\n",
        "        published_at = datetime.strptime(snippet['publishedAt'], '%Y-%m-%dT%H:%M:%SZ')\n",
        "\n",
        "        # 사용자 입력 기간 내 동영상만 수집\n",
        "        if not (start_date <= published_at <= end_date):\n",
        "            continue\n",
        "\n",
        "        videos.append({\n",
        "            \"title\": snippet['title'],\n",
        "            \"videoId\": snippet['resourceId']['videoId'],\n",
        "            \"publishedAt\": published_at,\n",
        "            \"description\": snippet.get('description', ''),\n",
        "            \"thumbnail\": snippet['thumbnails']['high']['url']\n",
        "        })\n",
        "\n",
        "    next_page_token = playlist_response.get('nextPageToken')\n",
        "    if not next_page_token:\n",
        "        break\n",
        "\n",
        "# 결과 출력\n",
        "print(f\"\\n최근 2일간 업로드된 영상 수: {len(videos)}개\\n\")\n",
        "for v in videos:\n",
        "    print(f\"제목: {v['title']}\")\n",
        "    print(f\"영상 링크: https://www.youtube.com/watch?v={v['videoId']}\")\n",
        "    print(f\"업로드 시간(UTC): {v['publishedAt']}\")\n",
        "    print(f\"썸네일: {v['thumbnail']}\")\n",
        "    print(f\"설명: {v['description'][:100]}{'...' if len(v['description']) > 100 else ''}\")\n",
        "    print(\"-\" * 80)\n"
      ],
      "metadata": {
        "id": "B3SfZ12hdiJI"
      },
      "execution_count": null,
      "outputs": []
    },
    {
      "cell_type": "code",
      "source": [
        "!pip install youtube-transcript-api"
      ],
      "metadata": {
        "id": "-tKrtcZ7fTAM"
      },
      "execution_count": null,
      "outputs": []
    },
    {
      "cell_type": "code",
      "source": [
        "from youtube_transcript_api import YouTubeTranscriptApi\n",
        "\n",
        "# videos 리스트는 앞서 수집한 동영상 메타데이터 정보라고 가정\n",
        "for v in videos:\n",
        "    video_id = v['videoId']\n",
        "    try:\n",
        "        transcript = YouTubeTranscriptApi.get_transcript(video_id, languages=['ko'])\n",
        "        full_text = \"\\n\".join([entry['text'] for entry in transcript])\n",
        "        filename = f\"{video_id}_{v['title'][:30]}.txt\"\n",
        "        with open(filename, \"w\", encoding=\"utf-8\") as f:\n",
        "            f.write(full_text)\n",
        "        print(f\"{filename} 저장 완료\")\n",
        "    except Exception as e:\n",
        "        print(f\"{v['title']} 자막 없음 또는 오류: {e}\")\n"
      ],
      "metadata": {
        "id": "LG1_jD3WfPm6"
      },
      "execution_count": null,
      "outputs": []
    },
    {
      "cell_type": "code",
      "source": [
        "import os\n",
        "\n",
        "# 현재 작업 디렉토리 설정 (필요시 경로 수정 가능)\n",
        "directory = os.getcwd()\n",
        "\n",
        "# 병합 대상 파일 확장자\n",
        "target_extension = \".txt\"\n",
        "\n",
        "# 출력 파일 이름\n",
        "output_filename = \"merged_transcripts.txt\"\n",
        "\n",
        "# 모든 txt 파일 이름 수집 (output 파일은 제외)\n",
        "txt_files = [f for f in os.listdir(directory) if f.endswith(target_extension) and f != output_filename]\n",
        "\n",
        "# 파일 이름 기준으로 정렬 (선택 사항)\n",
        "txt_files.sort()\n",
        "\n",
        "# 파일 병합\n",
        "with open(output_filename, \"w\", encoding=\"utf-8\") as outfile:\n",
        "    for filename in txt_files:\n",
        "        outfile.write(f\"\\n\\n===== {filename} =====\\n\\n\")  # 구분용 제목\n",
        "        with open(os.path.join(directory, filename), \"r\", encoding=\"utf-8\") as infile:\n",
        "            outfile.write(infile.read())\n",
        "\n",
        "print(f\"\\n{len(txt_files)}개의 파일이 '{output_filename}'로 병합되었습니다.\")\n"
      ],
      "metadata": {
        "id": "prrRquFPf9Oy"
      },
      "execution_count": null,
      "outputs": []
    }
  ]
}